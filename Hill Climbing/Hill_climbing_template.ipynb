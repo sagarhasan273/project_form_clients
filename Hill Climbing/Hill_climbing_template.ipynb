{
  "cells": [
    {
      "cell_type": "code",
      "execution_count": 1,
      "metadata": {
        "id": "b-dkHkLRyRHN"
      },
      "outputs": [],
      "source": [
        "class Node:\n",
        "    def __init__(self, state, parent, operator, depth, cost):\n",
        "        self.state = state\n",
        "        self.parent = parent\n",
        "        self.operator = operator\n",
        "        self.depth = depth\n",
        "        self.cost = cost\n"
      ]
    },
    {
      "cell_type": "code",
      "execution_count": null,
      "metadata": {
        "colab": {
          "base_uri": "https://localhost:8080/"
        },
        "id": "nNWfX_xR8ndj",
        "outputId": "d1a6c9cf-b0a4-4df0-a6c1-b65d5d090f32"
      },
      "outputs": [
        {
          "name": "stdout",
          "output_type": "stream",
          "text": [
            "0.1456692551041303\n"
          ]
        }
      ],
      "source": [
        "# generate random number between 0 to 1\n",
        "random.seed(100)\n",
        "n = random.random()\n",
        "print(n)"
      ]
    },
    {
      "cell_type": "code",
      "execution_count": null,
      "metadata": {
        "colab": {
          "base_uri": "https://localhost:8080/"
        },
        "id": "RMt9xNInyVch",
        "outputId": "cf78e128-d11d-46de-d1a5-6d838c263d37"
      },
      "outputs": [
        {
          "name": "stdout",
          "output_type": "stream",
          "text": [
            "0.9329624000750505\n",
            "0.9470780060029439\n",
            "0.33535077594001006\n",
            "0.3094059291400342\n",
            "0.7680181487450805\n"
          ]
        }
      ],
      "source": [
        "# this cell will print different random numbers on different runs\n",
        "for i in range(5):\n",
        "    print(random.random())"
      ]
    },
    {
      "cell_type": "code",
      "execution_count": null,
      "metadata": {
        "colab": {
          "base_uri": "https://localhost:8080/"
        },
        "id": "UcJ5U-a6yqw6",
        "outputId": "4bc1624d-88f1-462f-dc6b-f23333a145f3"
      },
      "outputs": [
        {
          "name": "stdout",
          "output_type": "stream",
          "text": [
            "0.1456692551041303\n",
            "0.45492700451402135\n",
            "0.7707838056590222\n",
            "0.705513226934028\n",
            "0.7319589730332557\n"
          ]
        }
      ],
      "source": [
        "# this cell will print same random numbers on different runs\n",
        "random.seed(100)\n",
        "for i in range(5):\n",
        "    print(random.random())"
      ]
    },
    {
      "cell_type": "code",
      "execution_count": null,
      "metadata": {
        "colab": {
          "base_uri": "https://localhost:8080/"
        },
        "id": "h1kWdJnZVpFL",
        "outputId": "127dede4-8607-415a-d8fe-e7d469407963"
      },
      "outputs": [
        {
          "name": "stdout",
          "output_type": "stream",
          "text": [
            "0.1456692551041303\n",
            "accept the bad move\n"
          ]
        }
      ],
      "source": [
        "# accept a bad move with probability P\n",
        "random.seed(100) \n",
        "P = 0.56\n",
        "X = random.random()\n",
        "print(n)\n",
        "if X <= P:\n",
        "    print('accept the bad move')\n",
        "else:\n",
        "    print('do not accept')"
      ]
    },
    {
      "cell_type": "code",
      "execution_count": null,
      "metadata": {
        "id": "L8VN-KdHeqfU"
      },
      "outputs": [],
      "source": [
        "def schedule(t):\n",
        "    if t == 500:\n",
        "        return 0\n",
        "    else:\n",
        "        return 500 - t"
      ]
    },
    {
      "cell_type": "code",
      "execution_count": null,
      "metadata": {
        "id": "-zTL3HY5V135"
      },
      "outputs": [],
      "source": [
        "start_state = [[3, 1, 2], \n",
        "               [0, 4, 5], \n",
        "               [6, 7, 8]]\n",
        "goal_state = [[0, 1, 2], \n",
        "              [3, 4, 5], \n",
        "              [6, 7, 8]]"
      ]
    },
    {
      "cell_type": "code",
      "execution_count": null,
      "metadata": {
        "id": "qh7XvTngW0ES"
      },
      "outputs": [],
      "source": [
        "def h1(state):\n",
        "    ...\n",
        "    return num_misplaced_tiles\n",
        "\n",
        "def h2(state):\n",
        "    ...\n",
        "    return manhattan_distance"
      ]
    },
    {
      "cell_type": "code",
      "execution_count": null,
      "metadata": {
        "id": "WNq4M1LUW-Cq"
      },
      "outputs": [],
      "source": [
        "def hill_climbing(start_state):\n",
        "    curr = start_state\n",
        "    itr = 0\n",
        "    while True:\n",
        "        itr += 1\n",
        "        neighbor = get_lowest_cost_successor(curr)\n",
        "        print(neighbor, heuristic)\n",
        "        if neighbor is not better than curr:\n",
        "            return curr\n",
        "        curr = neighbor\n",
        "    print(curr)"
      ]
    },
    {
      "cell_type": "code",
      "execution_count": null,
      "metadata": {
        "id": "EDeAkedEXPHa"
      },
      "outputs": [],
      "source": [
        "def schedule(t):\n",
        "    ...\n",
        "    return T # T=temperature\n",
        "\n",
        "def simulated_annealing(start_state):\n",
        "    curr = start_state\n",
        "    for t=1 to N:\n",
        "        T = schedule(t)\n",
        "        ..."
      ]
    }
  ],
  "metadata": {
    "colab": {
      "collapsed_sections": [],
      "name": "Hill_climbing_template.ipynb",
      "provenance": []
    },
    "kernelspec": {
      "display_name": "Python 3.9.12 ('ml_env')",
      "language": "python",
      "name": "python3"
    },
    "language_info": {
      "codemirror_mode": {
        "name": "ipython",
        "version": 3
      },
      "file_extension": ".py",
      "mimetype": "text/x-python",
      "name": "python",
      "nbconvert_exporter": "python",
      "pygments_lexer": "ipython3",
      "version": "3.9.12"
    },
    "vscode": {
      "interpreter": {
        "hash": "36940eacb29b82012f4e9e225501ad3a1037e479000bf96a952dc115e082195e"
      }
    }
  },
  "nbformat": 4,
  "nbformat_minor": 0
}
