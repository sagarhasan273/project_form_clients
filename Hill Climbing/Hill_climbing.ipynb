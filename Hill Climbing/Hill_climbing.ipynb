{
 "cells": [
  {
   "cell_type": "code",
   "execution_count": 1,
   "metadata": {},
   "outputs": [],
   "source": [
    "import math\n",
    "import random\n",
    "import pandas as pd"
   ]
  },
  {
   "cell_type": "code",
   "execution_count": 2,
   "metadata": {},
   "outputs": [],
   "source": [
    "def init():\n",
    "    df = pd.read_csv(\"input.txt\", sep=\" \", header=None)\n",
    "    start_state = []\n",
    "    for r in range(len(df)):\n",
    "        for c in range(len(df[0])):\n",
    "            start_state.append(df[c][r])\n",
    "    return start_state"
   ]
  },
  {
   "cell_type": "code",
   "execution_count": 3,
   "metadata": {},
   "outputs": [],
   "source": [
    "def calc_cost(state):\n",
    "    cost = 0\n",
    "    for i in range(len(state)):\n",
    "        for j in range(i, len(state) - 1):\n",
    "            if state[i] > state[j + 1]:\n",
    "                cost = cost + 1\n",
    "    return cost"
   ]
  },
  {
   "cell_type": "code",
   "execution_count": 4,
   "metadata": {},
   "outputs": [],
   "source": [
    "def goal_test(state):\n",
    "    if calc_cost(state) == 0:\n",
    "        return True\n",
    "    else:\n",
    "        return False"
   ]
  },
  {
   "cell_type": "code",
   "execution_count": 14,
   "metadata": {},
   "outputs": [],
   "source": [
    "def simulated_annealing(current_state, current_state_cost):\n",
    "    for i in range(len(current_state)):\n",
    "        for j in range(i + 1, len(current_state)):\n",
    "            current_state[i], current_state[j] = current_state[j], current_state[i]\n",
    "            latest_cost = calc_cost(current_state)\n",
    "            if latest_cost > current_state_cost:\n",
    "                return simulated_annealing(current_state, latest_cost)\n",
    "            elif latest_cost == current_state_cost:\n",
    "                DE = -1\n",
    "                ePowDE = math.exp(DE)\n",
    "                random_number_generate = random.uniform(0, 1)\n",
    "                if random_number_generate <= ePowDE:\n",
    "                    return simulated_annealing(current_state, latest_cost)\n",
    "            elif latest_cost < current_state_cost:\n",
    "                DE = latest_cost - current_state_cost\n",
    "                ePowDE = math.exp(DE)\n",
    "                random_number_generate = random.uniform(0, 1)\n",
    "                if random_number_generate <= ePowDE:\n",
    "                    return simulated_annealing(current_state, latest_cost)\n",
    "    return current_state, None"
   ]
  },
  {
   "cell_type": "code",
   "execution_count": 11,
   "metadata": {},
   "outputs": [],
   "source": [
    "def steepest_ascent(current_state, current_state_cost):\n",
    "    for i in range(len(current_state)):\n",
    "        for j in range(i + 1, len(current_state)):\n",
    "            current_state[i], current_state[j] = current_state[j], current_state[i]\n",
    "            latest_cost = calc_cost(current_state)\n",
    "            if latest_cost > current_state_cost:\n",
    "                return steepest_ascent(current_state, latest_cost)\n",
    "    return current_state, None"
   ]
  },
  {
   "cell_type": "code",
   "execution_count": 15,
   "metadata": {},
   "outputs": [],
   "source": [
    "def HillClimbing():\n",
    "    state = init()\n",
    "    cost = calc_cost(state)\n",
    "    while goal_test(state) != 1:\n",
    "        # state, cost = steepest_ascent(state, cost)\n",
    "        state, cost = simulated_annealing(state, cost)\n",
    "        if cost is None:\n",
    "            print(state)\n",
    "            return\n",
    "    print(state)\n",
    "    return"
   ]
  },
  {
   "cell_type": "code",
   "execution_count": 16,
   "metadata": {},
   "outputs": [
    {
     "name": "stdout",
     "output_type": "stream",
     "text": [
      "[0, 1, 3, 2, 4, 5, 7, 6, 8]\n"
     ]
    }
   ],
   "source": [
    "HillClimbing()"
   ]
  }
 ],
 "metadata": {
  "kernelspec": {
   "display_name": "Python 3.9.12 ('ml_env')",
   "language": "python",
   "name": "python3"
  },
  "language_info": {
   "codemirror_mode": {
    "name": "ipython",
    "version": 3
   },
   "file_extension": ".py",
   "mimetype": "text/x-python",
   "name": "python",
   "nbconvert_exporter": "python",
   "pygments_lexer": "ipython3",
   "version": "3.9.12"
  },
  "orig_nbformat": 4,
  "vscode": {
   "interpreter": {
    "hash": "36940eacb29b82012f4e9e225501ad3a1037e479000bf96a952dc115e082195e"
   }
  }
 },
 "nbformat": 4,
 "nbformat_minor": 2
}
