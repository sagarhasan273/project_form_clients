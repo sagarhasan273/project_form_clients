{
  "cells": [
    {
      "cell_type": "code",
      "execution_count": 2,
      "metadata": {},
      "outputs": [],
      "source": [
        "goal_state = [0, 1, 2, 3, 4, 5, 6, 7, 8]"
      ]
    },
    {
      "cell_type": "code",
      "execution_count": 3,
      "metadata": {
        "id": "b-dkHkLRyRHN"
      },
      "outputs": [],
      "source": [
        "class Node:\n",
        "    def __init__(self, state, parent, operator, depth, cost):\n",
        "        self.state = state\n",
        "        self.parent = parent\n",
        "        self.operator = operator\n",
        "        self.depth = depth\n",
        "        self.cost = cost\n"
      ]
    },
    {
      "cell_type": "code",
      "execution_count": 4,
      "metadata": {
        "colab": {
          "base_uri": "https://localhost:8080/"
        },
        "id": "nNWfX_xR8ndj",
        "outputId": "d1a6c9cf-b0a4-4df0-a6c1-b65d5d090f32"
      },
      "outputs": [],
      "source": [
        "def create_node(state, parent, operator, depth, cost):\n",
        "    return Node(state, parent, operator, depth, cost)"
      ]
    },
    {
      "cell_type": "code",
      "execution_count": 5,
      "metadata": {
        "colab": {
          "base_uri": "https://localhost:8080/"
        },
        "id": "RMt9xNInyVch",
        "outputId": "cf78e128-d11d-46de-d1a5-6d838c263d37"
      },
      "outputs": [],
      "source": [
        "def expand_node(node, nodes):\n",
        "    expanded_nodes = [create_node(move_left(node.state), node, \"Left\", node.depth + 1, 0),\n",
        "                      create_node(move_right(node.state), node, \"Right\", node.depth + 1, 0),\n",
        "                      create_node(move_up(node.state), node, \"Up\", node.depth + 1, 0),\n",
        "                      create_node(move_down(node.state), node, \"Down\", node.depth + 1, 0)]\n",
        "    expanded_nodes = [node for node in expanded_nodes if node.state is not None]\n",
        "    return expanded_nodes"
      ]
    },
    {
      "cell_type": "code",
      "execution_count": 6,
      "metadata": {
        "colab": {
          "base_uri": "https://localhost:8080/"
        },
        "id": "UcJ5U-a6yqw6",
        "outputId": "4bc1624d-88f1-462f-dc6b-f23333a145f3"
      },
      "outputs": [],
      "source": [
        "def move_left(state):\n",
        "    index = state.index(0)\n",
        "    cpy_state = state.copy()\n",
        "    if index not in [0, 3, 6]:\n",
        "        cpy_state[index], cpy_state[index - 1] = cpy_state[index - 1], cpy_state[index]\n",
        "        return cpy_state\n",
        "    return None"
      ]
    },
    {
      "cell_type": "code",
      "execution_count": 7,
      "metadata": {
        "colab": {
          "base_uri": "https://localhost:8080/"
        },
        "id": "h1kWdJnZVpFL",
        "outputId": "127dede4-8607-415a-d8fe-e7d469407963"
      },
      "outputs": [],
      "source": [
        "def move_right(state):\n",
        "    index = state.index(0)\n",
        "    cpy_state = state.copy()\n",
        "    if index not in [2, 5, 8]:\n",
        "        cpy_state[index], cpy_state[index + 1] = cpy_state[index + 1], cpy_state[index]\n",
        "        return cpy_state\n",
        "    return None"
      ]
    },
    {
      "cell_type": "code",
      "execution_count": 8,
      "metadata": {
        "id": "L8VN-KdHeqfU"
      },
      "outputs": [],
      "source": [
        "def move_up(state):\n",
        "    index = state.index(0)\n",
        "    cpy_state = state.copy()\n",
        "    if index not in [0, 1, 2]:\n",
        "        cpy_state[index], cpy_state[index - 3] = cpy_state[index - 3], cpy_state[index]\n",
        "        return cpy_state\n",
        "    return None"
      ]
    },
    {
      "cell_type": "code",
      "execution_count": 9,
      "metadata": {
        "id": "-zTL3HY5V135"
      },
      "outputs": [],
      "source": [
        "def move_down(state):\n",
        "    index = state.index(0)\n",
        "    cpy_state = state.copy()\n",
        "    if index not in [6, 7, 8]:\n",
        "        cpy_state[index], cpy_state[index + 3] = cpy_state[index + 3], cpy_state[index]\n",
        "        return cpy_state\n",
        "    return None"
      ]
    },
    {
      "cell_type": "code",
      "execution_count": 12,
      "metadata": {
        "id": "qh7XvTngW0ES"
      },
      "outputs": [],
      "source": [
        "def bfs(start, goal, limit):\n",
        "    startNode = create_node(start, None, None, 0, 0)\n",
        "    nodes = [startNode]\n",
        "    visited = []\n",
        "    cost = 0\n",
        "    traversed = 0\n",
        "\n",
        "    while nodes:\n",
        "        check = False\n",
        "        node = nodes.pop(0)\n",
        "        traversed += 1\n",
        "        if node.state == goal:\n",
        "            return cost, node, traversed\n",
        "        for i in visited:\n",
        "            if i.state == node.state:\n",
        "                check = True\n",
        "        if check: \n",
        "            continue\n",
        "        visited.append(node)\n",
        "        expanded_nodes = expand_node(node, nodes)\n",
        "        nodes.extend(expanded_nodes)\n",
        "        cost += len(expanded_nodes)\n",
        "        if cost > limit:\n",
        "            return -1, None, -1\n",
        "    return None"
      ]
    },
    {
      "cell_type": "code",
      "execution_count": 18,
      "metadata": {
        "id": "EDeAkedEXPHa"
      },
      "outputs": [],
      "source": [
        "def HillClimbing(start_state):\n",
        "    starting_state = []\n",
        "    for i in range(0, 9):\n",
        "        starting_state.append(start_state[i])\n",
        "\n",
        "    limit = 1000\n",
        "    moves = 0\n",
        "\n",
        "    if len(starting_state) == 9:\n",
        "        cost, result, traversed = bfs(starting_state, goal_state, limit)\n",
        "        if result is None:\n",
        "            if cost == -1:\n",
        "                print(\"\\nMaximum limit of moves reached. Can't find solution.\")\n",
        "            else:\n",
        "                print(\"No solution found.\")\n",
        "        elif result.depth == 0:\n",
        "            print(\"\\nStart node was the goal!\")\n",
        "        else:\n",
        "            moves = result.depth\n",
        "            path = []\n",
        "            while result.parent is not None:\n",
        "                path.insert(0, result)\n",
        "                result = result.parent\n",
        "            path.insert(0, create_node(starting_state, None, None, 0, 0))\n",
        "    else:\n",
        "        print(\"Invalid input\")\n",
        "    \n",
        "    return moves"
      ]
    },
    {
      "cell_type": "code",
      "execution_count": 19,
      "metadata": {},
      "outputs": [],
      "source": [
        "import pandas as pd\n",
        "\n",
        "df = pd.read_csv(\"input.txt\", sep=\" \", header=None)\n",
        "\n",
        "start_state = []\n",
        "for r in range(len(df)):\n",
        "    for c in range(len(df[0])):\n",
        "        start_state.append(df[c][r])\n"
      ]
    },
    {
      "cell_type": "code",
      "execution_count": 20,
      "metadata": {},
      "outputs": [
        {
          "name": "stdout",
          "output_type": "stream",
          "text": [
            "Neighbor [[0, 1, 2], [3, 4, 5], [6, 7, 8]] h = 2\n"
          ]
        }
      ],
      "source": [
        "moves = HillClimbing(start_state)\n",
        "neighbor = [[0] * 3 for _ in range(3)]\n",
        "i = 0\n",
        "for r in range(3):\n",
        "    for c in range(3):\n",
        "        neighbor[r][c] = goal_state[i]\n",
        "        i += 1\n",
        "print(f\"Neighbor {neighbor} h = {moves}\")"
      ]
    }
  ],
  "metadata": {
    "colab": {
      "collapsed_sections": [],
      "name": "Hill_climbing_template.ipynb",
      "provenance": []
    },
    "kernelspec": {
      "display_name": "Python 3.9.12 ('ml_env')",
      "language": "python",
      "name": "python3"
    },
    "language_info": {
      "codemirror_mode": {
        "name": "ipython",
        "version": 3
      },
      "file_extension": ".py",
      "mimetype": "text/x-python",
      "name": "python",
      "nbconvert_exporter": "python",
      "pygments_lexer": "ipython3",
      "version": "3.9.12"
    },
    "vscode": {
      "interpreter": {
        "hash": "36940eacb29b82012f4e9e225501ad3a1037e479000bf96a952dc115e082195e"
      }
    }
  },
  "nbformat": 4,
  "nbformat_minor": 0
}
