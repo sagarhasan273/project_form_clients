{
  "cells": [
    {
      "cell_type": "code",
      "execution_count": 1,
      "metadata": {
        "colab": {},
        "colab_type": "code",
        "id": "YjRQU2tmYFGb"
      },
      "outputs": [],
      "source": [
        "#Importing libraries and loading dataset\n",
        "import numpy as np\n",
        "%matplotlib inline\n",
        "import matplotlib.pyplot as plt\n",
        "import pandas as pd\n",
        "from datetime import datetime\n",
        "\n",
        "def parse(x):\n",
        "    return datetime.strptime(x, '%Y %m %d %H')\n",
        "                          \n",
        "org_col_names=[\"No\", \"year\",\"month\", \"day\", \"hour\", \"pm2.5\", \"DEWP\",\"TEMP\", \"PRES\", \"cbwd\", \"Iws\", \"Is\", \"Ir\"]\n",
        "col_names = ['pollution', 'dew', 'temp', 'pressure', 'w_dir', 'w_speed', 'snow', 'rain']   \n",
        "                            \n",
        "dataset = pd.read_csv('AirPollution.csv',index_col=0, date_parser=parse,parse_dates=[['year', 'month', 'day', 'hour']])                            "
      ]
    },
    {
      "cell_type": "code",
      "execution_count": 2,
      "metadata": {
        "colab": {
          "base_uri": "https://localhost:8080/",
          "height": 235
        },
        "colab_type": "code",
        "id": "QWW63YcTnNTL",
        "outputId": "68e79825-5251-4c42-9ed2-f4603cbb2dc5"
      },
      "outputs": [
        {
          "data": {
            "text/html": [
              "<div>\n",
              "<style scoped>\n",
              "    .dataframe tbody tr th:only-of-type {\n",
              "        vertical-align: middle;\n",
              "    }\n",
              "\n",
              "    .dataframe tbody tr th {\n",
              "        vertical-align: top;\n",
              "    }\n",
              "\n",
              "    .dataframe thead th {\n",
              "        text-align: right;\n",
              "    }\n",
              "</style>\n",
              "<table border=\"1\" class=\"dataframe\">\n",
              "  <thead>\n",
              "    <tr style=\"text-align: right;\">\n",
              "      <th></th>\n",
              "      <th>No</th>\n",
              "      <th>pm2.5</th>\n",
              "      <th>DEWP</th>\n",
              "      <th>TEMP</th>\n",
              "      <th>PRES</th>\n",
              "      <th>cbwd</th>\n",
              "      <th>Iws</th>\n",
              "      <th>Is</th>\n",
              "      <th>Ir</th>\n",
              "    </tr>\n",
              "    <tr>\n",
              "      <th>year_month_day_hour</th>\n",
              "      <th></th>\n",
              "      <th></th>\n",
              "      <th></th>\n",
              "      <th></th>\n",
              "      <th></th>\n",
              "      <th></th>\n",
              "      <th></th>\n",
              "      <th></th>\n",
              "      <th></th>\n",
              "    </tr>\n",
              "  </thead>\n",
              "  <tbody>\n",
              "    <tr>\n",
              "      <th>2010-01-01 00:00:00</th>\n",
              "      <td>1</td>\n",
              "      <td>NaN</td>\n",
              "      <td>-21</td>\n",
              "      <td>-11.0</td>\n",
              "      <td>1021.0</td>\n",
              "      <td>NW</td>\n",
              "      <td>1.79</td>\n",
              "      <td>0</td>\n",
              "      <td>0</td>\n",
              "    </tr>\n",
              "    <tr>\n",
              "      <th>2010-01-01 01:00:00</th>\n",
              "      <td>2</td>\n",
              "      <td>NaN</td>\n",
              "      <td>-21</td>\n",
              "      <td>-12.0</td>\n",
              "      <td>1020.0</td>\n",
              "      <td>NW</td>\n",
              "      <td>4.92</td>\n",
              "      <td>0</td>\n",
              "      <td>0</td>\n",
              "    </tr>\n",
              "    <tr>\n",
              "      <th>2010-01-01 02:00:00</th>\n",
              "      <td>3</td>\n",
              "      <td>NaN</td>\n",
              "      <td>-21</td>\n",
              "      <td>-11.0</td>\n",
              "      <td>1019.0</td>\n",
              "      <td>NW</td>\n",
              "      <td>6.71</td>\n",
              "      <td>0</td>\n",
              "      <td>0</td>\n",
              "    </tr>\n",
              "    <tr>\n",
              "      <th>2010-01-01 03:00:00</th>\n",
              "      <td>4</td>\n",
              "      <td>NaN</td>\n",
              "      <td>-21</td>\n",
              "      <td>-14.0</td>\n",
              "      <td>1019.0</td>\n",
              "      <td>NW</td>\n",
              "      <td>9.84</td>\n",
              "      <td>0</td>\n",
              "      <td>0</td>\n",
              "    </tr>\n",
              "    <tr>\n",
              "      <th>2010-01-01 04:00:00</th>\n",
              "      <td>5</td>\n",
              "      <td>NaN</td>\n",
              "      <td>-20</td>\n",
              "      <td>-12.0</td>\n",
              "      <td>1018.0</td>\n",
              "      <td>NW</td>\n",
              "      <td>12.97</td>\n",
              "      <td>0</td>\n",
              "      <td>0</td>\n",
              "    </tr>\n",
              "  </tbody>\n",
              "</table>\n",
              "</div>"
            ],
            "text/plain": [
              "                     No  pm2.5  DEWP  TEMP    PRES cbwd    Iws  Is  Ir\n",
              "year_month_day_hour                                                   \n",
              "2010-01-01 00:00:00   1    NaN   -21 -11.0  1021.0   NW   1.79   0   0\n",
              "2010-01-01 01:00:00   2    NaN   -21 -12.0  1020.0   NW   4.92   0   0\n",
              "2010-01-01 02:00:00   3    NaN   -21 -11.0  1019.0   NW   6.71   0   0\n",
              "2010-01-01 03:00:00   4    NaN   -21 -14.0  1019.0   NW   9.84   0   0\n",
              "2010-01-01 04:00:00   5    NaN   -20 -12.0  1018.0   NW  12.97   0   0"
            ]
          },
          "execution_count": 2,
          "metadata": {},
          "output_type": "execute_result"
        }
      ],
      "source": [
        "dataset.head()"
      ]
    },
    {
      "cell_type": "code",
      "execution_count": 3,
      "metadata": {
        "colab": {
          "base_uri": "https://localhost:8080/",
          "height": 136
        },
        "colab_type": "code",
        "id": "hLWvB7QcnuuZ",
        "outputId": "90e41074-b8ec-4620-a46f-08a5f7ceeb61"
      },
      "outputs": [
        {
          "name": "stdout",
          "output_type": "stream",
          "text": [
            "                     pollution  dew  temp  pressure w_dir  w_speed  snow  rain\n",
            "year_month_day_hour                                                           \n",
            "2010-01-02 00:00:00      129.0  -16  -4.0    1020.0    SE     1.79     0     0\n",
            "2010-01-02 01:00:00      148.0  -15  -4.0    1020.0    SE     2.68     0     0\n",
            "2010-01-02 02:00:00      159.0  -11  -5.0    1021.0    SE     3.57     0     0\n",
            "2010-01-02 03:00:00      181.0   -7  -5.0    1022.0    SE     5.36     1     0\n",
            "2010-01-02 04:00:00      138.0   -7  -5.0    1022.0    SE     6.25     2     0\n"
          ]
        }
      ],
      "source": [
        "# Data cleaning\n",
        "dataset.drop('No', axis=1, inplace=True)\n",
        "dataset.columns = col_names\n",
        "dataset['pollution'].fillna(0, inplace=True)\n",
        "dataset = dataset[24:] # drop the first day\n",
        "print(dataset.head(5))\n",
        "dataset.to_csv('pollution.csv') # save new CSV"
      ]
    },
    {
      "cell_type": "code",
      "execution_count": 4,
      "metadata": {
        "colab": {
          "base_uri": "https://localhost:8080/",
          "height": 297
        },
        "colab_type": "code",
        "id": "3OFd6lx-n5EP",
        "outputId": "ece5ab3d-a45b-4101-f495-4c95b531ae34"
      },
      "outputs": [
        {
          "data": {
            "text/html": [
              "<div>\n",
              "<style scoped>\n",
              "    .dataframe tbody tr th:only-of-type {\n",
              "        vertical-align: middle;\n",
              "    }\n",
              "\n",
              "    .dataframe tbody tr th {\n",
              "        vertical-align: top;\n",
              "    }\n",
              "\n",
              "    .dataframe thead th {\n",
              "        text-align: right;\n",
              "    }\n",
              "</style>\n",
              "<table border=\"1\" class=\"dataframe\">\n",
              "  <thead>\n",
              "    <tr style=\"text-align: right;\">\n",
              "      <th></th>\n",
              "      <th>pollution</th>\n",
              "      <th>dew</th>\n",
              "      <th>temp</th>\n",
              "      <th>pressure</th>\n",
              "      <th>w_speed</th>\n",
              "      <th>snow</th>\n",
              "      <th>rain</th>\n",
              "    </tr>\n",
              "  </thead>\n",
              "  <tbody>\n",
              "    <tr>\n",
              "      <th>count</th>\n",
              "      <td>43800.000000</td>\n",
              "      <td>43800.000000</td>\n",
              "      <td>43800.000000</td>\n",
              "      <td>43800.000000</td>\n",
              "      <td>43800.000000</td>\n",
              "      <td>43800.000000</td>\n",
              "      <td>43800.000000</td>\n",
              "    </tr>\n",
              "    <tr>\n",
              "      <th>mean</th>\n",
              "      <td>94.013516</td>\n",
              "      <td>1.828516</td>\n",
              "      <td>12.459041</td>\n",
              "      <td>1016.447306</td>\n",
              "      <td>23.894307</td>\n",
              "      <td>0.052763</td>\n",
              "      <td>0.195023</td>\n",
              "    </tr>\n",
              "    <tr>\n",
              "      <th>std</th>\n",
              "      <td>92.252276</td>\n",
              "      <td>14.429326</td>\n",
              "      <td>12.193384</td>\n",
              "      <td>10.271411</td>\n",
              "      <td>50.022729</td>\n",
              "      <td>0.760582</td>\n",
              "      <td>1.416247</td>\n",
              "    </tr>\n",
              "    <tr>\n",
              "      <th>min</th>\n",
              "      <td>0.000000</td>\n",
              "      <td>-40.000000</td>\n",
              "      <td>-19.000000</td>\n",
              "      <td>991.000000</td>\n",
              "      <td>0.450000</td>\n",
              "      <td>0.000000</td>\n",
              "      <td>0.000000</td>\n",
              "    </tr>\n",
              "    <tr>\n",
              "      <th>25%</th>\n",
              "      <td>24.000000</td>\n",
              "      <td>-10.000000</td>\n",
              "      <td>2.000000</td>\n",
              "      <td>1008.000000</td>\n",
              "      <td>1.790000</td>\n",
              "      <td>0.000000</td>\n",
              "      <td>0.000000</td>\n",
              "    </tr>\n",
              "    <tr>\n",
              "      <th>50%</th>\n",
              "      <td>68.000000</td>\n",
              "      <td>2.000000</td>\n",
              "      <td>14.000000</td>\n",
              "      <td>1016.000000</td>\n",
              "      <td>5.370000</td>\n",
              "      <td>0.000000</td>\n",
              "      <td>0.000000</td>\n",
              "    </tr>\n",
              "    <tr>\n",
              "      <th>75%</th>\n",
              "      <td>132.250000</td>\n",
              "      <td>15.000000</td>\n",
              "      <td>23.000000</td>\n",
              "      <td>1025.000000</td>\n",
              "      <td>21.910000</td>\n",
              "      <td>0.000000</td>\n",
              "      <td>0.000000</td>\n",
              "    </tr>\n",
              "    <tr>\n",
              "      <th>max</th>\n",
              "      <td>994.000000</td>\n",
              "      <td>28.000000</td>\n",
              "      <td>42.000000</td>\n",
              "      <td>1046.000000</td>\n",
              "      <td>585.600000</td>\n",
              "      <td>27.000000</td>\n",
              "      <td>36.000000</td>\n",
              "    </tr>\n",
              "  </tbody>\n",
              "</table>\n",
              "</div>"
            ],
            "text/plain": [
              "          pollution           dew          temp      pressure       w_speed  \\\n",
              "count  43800.000000  43800.000000  43800.000000  43800.000000  43800.000000   \n",
              "mean      94.013516      1.828516     12.459041   1016.447306     23.894307   \n",
              "std       92.252276     14.429326     12.193384     10.271411     50.022729   \n",
              "min        0.000000    -40.000000    -19.000000    991.000000      0.450000   \n",
              "25%       24.000000    -10.000000      2.000000   1008.000000      1.790000   \n",
              "50%       68.000000      2.000000     14.000000   1016.000000      5.370000   \n",
              "75%      132.250000     15.000000     23.000000   1025.000000     21.910000   \n",
              "max      994.000000     28.000000     42.000000   1046.000000    585.600000   \n",
              "\n",
              "               snow          rain  \n",
              "count  43800.000000  43800.000000  \n",
              "mean       0.052763      0.195023  \n",
              "std        0.760582      1.416247  \n",
              "min        0.000000      0.000000  \n",
              "25%        0.000000      0.000000  \n",
              "50%        0.000000      0.000000  \n",
              "75%        0.000000      0.000000  \n",
              "max       27.000000     36.000000  "
            ]
          },
          "execution_count": 4,
          "metadata": {},
          "output_type": "execute_result"
        }
      ],
      "source": [
        "# load dataset\n",
        "df = pd.read_csv('pollution.csv', header=0, index_col=0)\n",
        "df.describe()"
      ]
    },
    {
      "cell_type": "code",
      "execution_count": 5,
      "metadata": {
        "colab": {
          "base_uri": "https://localhost:8080/",
          "height": 34
        },
        "colab_type": "code",
        "id": "6bRhvqIcpYeV",
        "outputId": "fa0e3ca9-b0a8-4801-e9e6-12970046c684"
      },
      "outputs": [
        {
          "data": {
            "text/plain": [
              "['pollution', 'dew', 'temp', 'pressure', 'w_dir', 'w_speed', 'snow', 'rain']"
            ]
          },
          "execution_count": 5,
          "metadata": {},
          "output_type": "execute_result"
        }
      ],
      "source": [
        "dataset_columns = df.columns.tolist()\n",
        "dataset_columns"
      ]
    },
    {
      "cell_type": "code",
      "execution_count": 6,
      "metadata": {
        "colab": {
          "base_uri": "https://localhost:8080/",
          "height": 283
        },
        "colab_type": "code",
        "id": "OplB_zJ-pkqj",
        "outputId": "e390c278-c79e-40d3-ae79-5febdd209119"
      },
      "outputs": [
        {
          "data": {
            "text/plain": [
              "<AxesSubplot:>"
            ]
          },
          "execution_count": 6,
          "metadata": {},
          "output_type": "execute_result"
        },
        {
          "data": {
            "image/png": "[encoded data removed]",
            "text/plain": [
              "<Figure size 432x288 with 1 Axes>"
            ]
          },
          "metadata": {
            "needs_background": "light"
          },
          "output_type": "display_data"
        }
      ],
      "source": [
        "#Box plot\n",
        "#pd.options.display.mpl_style = False\n",
        "df.boxplot()"
      ]
    },
    {
      "cell_type": "code",
      "execution_count": 10,
      "metadata": {
        "colab": {
          "base_uri": "https://localhost:8080/",
          "height": 450
        },
        "colab_type": "code",
        "id": "QAO3Nx3kvify",
        "outputId": "35834c14-c397-44fd-d0fe-66e54e8bf412"
      },
      "outputs": [
        {
          "data": {
            "text/html": [
              "<div>\n",
              "<style scoped>\n",
              "    .dataframe tbody tr th:only-of-type {\n",
              "        vertical-align: middle;\n",
              "    }\n",
              "\n",
              "    .dataframe tbody tr th {\n",
              "        vertical-align: top;\n",
              "    }\n",
              "\n",
              "    .dataframe thead th {\n",
              "        text-align: right;\n",
              "    }\n",
              "</style>\n",
              "<table border=\"1\" class=\"dataframe\">\n",
              "  <thead>\n",
              "    <tr style=\"text-align: right;\">\n",
              "      <th></th>\n",
              "      <th>pollution</th>\n",
              "      <th>dew</th>\n",
              "      <th>temp</th>\n",
              "      <th>pressure</th>\n",
              "      <th>w_dir</th>\n",
              "      <th>w_speed</th>\n",
              "      <th>snow</th>\n",
              "      <th>rain</th>\n",
              "    </tr>\n",
              "    <tr>\n",
              "      <th>year_month_day_hour</th>\n",
              "      <th></th>\n",
              "      <th></th>\n",
              "      <th></th>\n",
              "      <th></th>\n",
              "      <th></th>\n",
              "      <th></th>\n",
              "      <th></th>\n",
              "      <th></th>\n",
              "    </tr>\n",
              "  </thead>\n",
              "  <tbody>\n",
              "    <tr>\n",
              "      <th>2010-01-02 00:00:00</th>\n",
              "      <td>129.0</td>\n",
              "      <td>-16</td>\n",
              "      <td>-4.0</td>\n",
              "      <td>1020.0</td>\n",
              "      <td>SE</td>\n",
              "      <td>1.79</td>\n",
              "      <td>0</td>\n",
              "      <td>0</td>\n",
              "    </tr>\n",
              "    <tr>\n",
              "      <th>2010-01-02 01:00:00</th>\n",
              "      <td>148.0</td>\n",
              "      <td>-15</td>\n",
              "      <td>-4.0</td>\n",
              "      <td>1020.0</td>\n",
              "      <td>SE</td>\n",
              "      <td>2.68</td>\n",
              "      <td>0</td>\n",
              "      <td>0</td>\n",
              "    </tr>\n",
              "    <tr>\n",
              "      <th>2010-01-02 02:00:00</th>\n",
              "      <td>159.0</td>\n",
              "      <td>-11</td>\n",
              "      <td>-5.0</td>\n",
              "      <td>1021.0</td>\n",
              "      <td>SE</td>\n",
              "      <td>3.57</td>\n",
              "      <td>0</td>\n",
              "      <td>0</td>\n",
              "    </tr>\n",
              "    <tr>\n",
              "      <th>2010-01-02 03:00:00</th>\n",
              "      <td>181.0</td>\n",
              "      <td>-7</td>\n",
              "      <td>-5.0</td>\n",
              "      <td>1022.0</td>\n",
              "      <td>SE</td>\n",
              "      <td>5.36</td>\n",
              "      <td>1</td>\n",
              "      <td>0</td>\n",
              "    </tr>\n",
              "    <tr>\n",
              "      <th>2010-01-02 04:00:00</th>\n",
              "      <td>138.0</td>\n",
              "      <td>-7</td>\n",
              "      <td>-5.0</td>\n",
              "      <td>1022.0</td>\n",
              "      <td>SE</td>\n",
              "      <td>6.25</td>\n",
              "      <td>2</td>\n",
              "      <td>0</td>\n",
              "    </tr>\n",
              "  </tbody>\n",
              "</table>\n",
              "</div>"
            ],
            "text/plain": [
              "                     pollution  dew  temp  pressure w_dir  w_speed  snow  rain\n",
              "year_month_day_hour                                                           \n",
              "2010-01-02 00:00:00      129.0  -16  -4.0    1020.0    SE     1.79     0     0\n",
              "2010-01-02 01:00:00      148.0  -15  -4.0    1020.0    SE     2.68     0     0\n",
              "2010-01-02 02:00:00      159.0  -11  -5.0    1021.0    SE     3.57     0     0\n",
              "2010-01-02 03:00:00      181.0   -7  -5.0    1022.0    SE     5.36     1     0\n",
              "2010-01-02 04:00:00      138.0   -7  -5.0    1022.0    SE     6.25     2     0"
            ]
          },
          "execution_count": 10,
          "metadata": {},
          "output_type": "execute_result"
        }
      ],
      "source": [
        "df.head()"
      ]
    },
    {
      "cell_type": "code",
      "execution_count": 11,
      "metadata": {
        "colab": {
          "base_uri": "https://localhost:8080/",
          "height": 258
        },
        "colab_type": "code",
        "id": "QGNtHSYCppXH",
        "outputId": "e257b28c-6117-46d7-a333-76b380fa0d23"
      },
      "outputs": [
        {
          "data": {
            "image/png": "[encoded data removed]",
            "text/plain": [
              "<Figure size 288x288 with 2 Axes>"
            ]
          },
          "metadata": {
            "needs_background": "light"
          },
          "output_type": "display_data"
        }
      ],
      "source": [
        "#Analysing relationship between different features\n",
        "# cor_cols = ['pollution', 'wnd_spd', 'rain', 'snow', 'temp']\n",
        "cor_cols = dataset_columns\n",
        "plt.matshow(df.corr())\n",
        "plt.xticks(range(len(cor_cols)), cor_cols)\n",
        "plt.yticks(range(len(cor_cols)), cor_cols)\n",
        "plt.colorbar()\n",
        "plt.show()"
      ]
    },
    {
      "cell_type": "code",
      "execution_count": 12,
      "metadata": {
        "colab": {
          "base_uri": "https://localhost:8080/",
          "height": 34
        },
        "colab_type": "code",
        "id": "Zk5k12EiqKfP",
        "outputId": "92241b0c-fd17-4820-dbe6-ec0994372400"
      },
      "outputs": [
        {
          "data": {
            "text/plain": [
              "array([2., 2., 2., ..., 1., 1., 1.], dtype=float32)"
            ]
          },
          "execution_count": 12,
          "metadata": {},
          "output_type": "execute_result"
        }
      ],
      "source": [
        "# pip install sklearn\n",
        "\n",
        "from sklearn.preprocessing import LabelEncoder\n",
        "\n",
        "# Encode non categorical values\n",
        "values = df.values\n",
        "encoder = LabelEncoder()\n",
        "values[:,4] = encoder.fit_transform(values[:,4])\n",
        "values = values.astype('float32')\n",
        "values[:,4]"
      ]
    },
    {
      "cell_type": "code",
      "execution_count": 13,
      "metadata": {
        "colab": {},
        "colab_type": "code",
        "id": "mtVERgwftcNL"
      },
      "outputs": [],
      "source": [
        "#Normalising data\n",
        "from sklearn.preprocessing import MinMaxScaler\n",
        "\n",
        "scaler = MinMaxScaler(feature_range=(0, 1))\n",
        "scaled_dataset = scaler.fit_transform(values)"
      ]
    },
    {
      "cell_type": "code",
      "execution_count": 14,
      "metadata": {
        "colab": {},
        "colab_type": "code",
        "id": "fo5o7LHvtmam"
      },
      "outputs": [],
      "source": [
        "#Creating a window for previous data\n",
        "def to_supervised(train):\n",
        "  window_size = 4\n",
        "  X = []\n",
        "  Y = []\n",
        "  for i in range(window_size, len(train)):\n",
        "    X.append(train[i-window_size:i,:])\n",
        "    Y.append(train[i,0:1])\n",
        "    \n",
        "  return X,Y"
      ]
    },
    {
      "cell_type": "code",
      "execution_count": 15,
      "metadata": {
        "colab": {
          "base_uri": "https://localhost:8080/",
          "height": 51
        },
        "colab_type": "code",
        "id": "9Japs75UuF-D",
        "outputId": "232fa0f4-c3e0-4981-a0ad-1cd21e580504"
      },
      "outputs": [
        {
          "name": "stdout",
          "output_type": "stream",
          "text": [
            "Y (43796, 1)\n",
            "X (43796, 4, 8)\n"
          ]
        }
      ],
      "source": [
        "X, Y = to_supervised(scaled_dataset)\n",
        "X = np.array(X)\n",
        "Y = np.array(Y)\n",
        "print('Y' ,Y.shape)\n",
        "print('X' ,X.shape)\n"
      ]
    },
    {
      "cell_type": "code",
      "execution_count": 16,
      "metadata": {
        "colab": {
          "base_uri": "https://localhost:8080/",
          "height": 85
        },
        "colab_type": "code",
        "id": "A--d92h9uQV_",
        "outputId": "06dc1c61-2e25-470b-aa5d-40d454ab7b84"
      },
      "outputs": [
        {
          "name": "stdout",
          "output_type": "stream",
          "text": [
            "X_train (35036, 4, 8)\n",
            "X_test (8760, 4, 8)\n",
            "Y_train (35036, 1)\n",
            "Y_test (8760, 1)\n"
          ]
        }
      ],
      "source": [
        "#Splitting the dataset\n",
        "n_train = 24*365\n",
        "X_train, X_test = X[n_train:,] , X[:n_train,]\n",
        "print('X_train' ,X_train.shape)\n",
        "print('X_test' ,X_test.shape)\n",
        "\n",
        "Y_train, Y_test = Y[n_train:,] , Y[:n_train,]\n",
        "print('Y_train' ,Y_train.shape)\n",
        "print('Y_test' ,Y_test.shape)"
      ]
    },
    {
      "cell_type": "code",
      "execution_count": 25,
      "metadata": {
        "colab": {
          "base_uri": "https://localhost:8080/",
          "height": 34
        },
        "colab_type": "code",
        "id": "MnzdpfwM7OUa",
        "outputId": "0a99ae98-78c9-4c79-f5df-e9fbbda12e73"
      },
      "outputs": [],
      "source": [
        "# pip install tensorflow\n",
        "# pip install keras\n",
        "\n",
        "#Importing LSTM model\n",
        "from keras.models import Sequential\n",
        "from keras.layers import Dense, Dropout,LSTM\n",
        "model = Sequential()\n",
        "\n",
        "model.add(LSTM(units = 50, return_sequences = True, input_shape=(X_train.shape[1], X_train.shape[2])))\n",
        "model.add(Dropout(0.2))\n",
        "\n",
        "model.add(LSTM(units = 50, return_sequences = True))\n",
        "model.add(Dropout(0.2))\n",
        "\n",
        "model.add(LSTM(units = 50))\n",
        "model.add(Dropout(0.2))\n",
        "\n",
        "model.add(Dense(units = 1))\n",
        "\n",
        "model.compile(optimizer = 'adam', loss = 'mean_squared_error')         "
      ]
    },
    {
      "cell_type": "code",
      "execution_count": 26,
      "metadata": {
        "colab": {
          "base_uri": "https://localhost:8080/",
          "height": 714
        },
        "colab_type": "code",
        "id": "fI1ihWPs-_2w",
        "outputId": "dd7af362-3c73-469a-a6d4-b326af713e4f"
      },
      "outputs": [
        {
          "name": "stdout",
          "output_type": "stream",
          "text": [
            "Epoch 1/20\n",
            "1095/1095 [==============================] - 12s 6ms/step - loss: 0.0023\n",
            "Epoch 2/20\n",
            "1095/1095 [==============================] - 7s 6ms/step - loss: 0.0011\n",
            "Epoch 3/20\n",
            "1095/1095 [==============================] - 7s 7ms/step - loss: 9.2708e-04\n",
            "Epoch 4/20\n",
            "1095/1095 [==============================] - 7s 6ms/step - loss: 8.8274e-04\n",
            "Epoch 5/20\n",
            "1095/1095 [==============================] - 7s 6ms/step - loss: 8.8056e-04\n",
            "Epoch 6/20\n",
            "1095/1095 [==============================] - 7s 6ms/step - loss: 8.4778e-04\n",
            "Epoch 7/20\n",
            "1095/1095 [==============================] - 7s 6ms/step - loss: 8.2679e-04\n",
            "Epoch 8/20\n",
            "1095/1095 [==============================] - 7s 6ms/step - loss: 8.2560e-04\n",
            "Epoch 9/20\n",
            "1095/1095 [==============================] - 7s 6ms/step - loss: 8.0543e-04\n",
            "Epoch 10/20\n",
            "1095/1095 [==============================] - 7s 6ms/step - loss: 8.0137e-04\n",
            "Epoch 11/20\n",
            "1095/1095 [==============================] - 7s 6ms/step - loss: 7.9784e-04\n",
            "Epoch 12/20\n",
            "1095/1095 [==============================] - 7s 6ms/step - loss: 7.9768e-04\n",
            "Epoch 13/20\n",
            "1095/1095 [==============================] - 7s 6ms/step - loss: 8.0427e-04\n",
            "Epoch 14/20\n",
            "1095/1095 [==============================] - 7s 6ms/step - loss: 7.8621e-04\n",
            "Epoch 15/20\n",
            "1095/1095 [==============================] - 7s 6ms/step - loss: 7.8365e-04\n",
            "Epoch 16/20\n",
            "1095/1095 [==============================] - 7s 6ms/step - loss: 7.8904e-04\n",
            "Epoch 17/20\n",
            "1095/1095 [==============================] - 7s 6ms/step - loss: 7.6744e-04\n",
            "Epoch 18/20\n",
            "1095/1095 [==============================] - 7s 6ms/step - loss: 7.7782e-04\n",
            "Epoch 19/20\n",
            "1095/1095 [==============================] - 7s 6ms/step - loss: 7.6336e-04\n",
            "Epoch 20/20\n",
            "1095/1095 [==============================] - 7s 6ms/step - loss: 7.7631e-04\n"
          ]
        },
        {
          "data": {
            "text/plain": [
              "<keras.callbacks.History at 0x2436abab3a0>"
            ]
          },
          "execution_count": 26,
          "metadata": {},
          "output_type": "execute_result"
        }
      ],
      "source": [
        "#Train the model\n",
        "model.fit(X_train, Y_train, epochs = 20, batch_size = 32)"
      ]
    },
    {
      "cell_type": "code",
      "execution_count": 27,
      "metadata": {
        "colab": {},
        "colab_type": "code",
        "id": "E0ORsAIKAwB2"
      },
      "outputs": [],
      "source": [
        "#Taking predictions\n",
        "from keras.models import load_model\n",
        "model.save('AirPollutionMultivariate.h5')"
      ]
    },
    {
      "cell_type": "code",
      "execution_count": 28,
      "metadata": {
        "colab": {
          "base_uri": "https://localhost:8080/",
          "height": 34
        },
        "colab_type": "code",
        "id": "C6fEpNBnC7kz",
        "outputId": "b47dfbee-31f0-4e8f-d756-10af77354fc5"
      },
      "outputs": [
        {
          "name": "stdout",
          "output_type": "stream",
          "text": [
            "274/274 [==============================] - 2s 2ms/step\n"
          ]
        },
        {
          "data": {
            "text/plain": [
              "0.030189952"
            ]
          },
          "execution_count": 28,
          "metadata": {},
          "output_type": "execute_result"
        }
      ],
      "source": [
        "Y_pred = model.predict(X_test)\n",
        "\n",
        "from sklearn.metrics import mean_squared_error\n",
        "mse = mean_squared_error(Y_test, Y_pred)\n",
        "\n",
        "rmse = np.sqrt(mse)\n",
        "rmse"
      ]
    },
    {
      "cell_type": "code",
      "execution_count": 30,
      "metadata": {
        "colab": {
          "base_uri": "https://localhost:8080/",
          "height": 68
        },
        "colab_type": "code",
        "id": "mA0ofmp1DPSN",
        "outputId": "7407a957-df78-465f-d3be-83d508eb1956"
      },
      "outputs": [
        {
          "name": "stdout",
          "output_type": "stream",
          "text": [
            "y_predicted (8760, 1)\n",
            "X_test (8760, 4, 8)\n",
            "scaled Values shape (43800, 8)\n"
          ]
        }
      ],
      "source": [
        "#Y_predicted = scaler.inverse_transform(Y_pred)\n",
        "print('y_predicted',Y_pred.shape)\n",
        "#print('X_train' ,X_train.shape)\n",
        "print('X_test' ,X_test.shape)\n",
        "print('scaled Values shape', scaled_dataset.shape)"
      ]
    },
    {
      "cell_type": "code",
      "execution_count": 31,
      "metadata": {
        "colab": {
          "base_uri": "https://localhost:8080/",
          "height": 85
        },
        "colab_type": "code",
        "id": "-4AniFeyDfD7",
        "outputId": "cc64e769-44e1-4ffd-9bcd-35b483ed9e68"
      },
      "outputs": [
        {
          "name": "stdout",
          "output_type": "stream",
          "text": [
            "dummy (8760, 8)\n",
            "Y_pred (8760, 1)\n",
            "concat y_pred (8760, 1)\n",
            "concat Y_test (8760, 1)\n"
          ]
        }
      ],
      "source": [
        "#Scaling back to the original scale\n",
        "d = scaled_dataset[:8760,:]\n",
        "print('dummy',d.shape)\n",
        "print('Y_pred',Y_pred.shape)\n",
        "Y_predicted = np.concatenate((Y_pred,d[:8760,1:]), axis =1)\n",
        "print('concat y_pred',Y_pred.shape)\n",
        "Y_tested = np.concatenate((Y_test, d[:8760,1:]), axis = 1)\n",
        "print('concat Y_test', Y_test.shape)"
      ]
    },
    {
      "cell_type": "code",
      "execution_count": 32,
      "metadata": {
        "colab": {
          "base_uri": "https://localhost:8080/",
          "height": 51
        },
        "colab_type": "code",
        "id": "13B5_7XIHPLh",
        "outputId": "40b6c243-090c-405c-875f-651eb40b9373"
      },
      "outputs": [
        {
          "name": "stdout",
          "output_type": "stream",
          "text": [
            "Y_tested (8760, 1)\n",
            "Y_predicted (8760, 1)\n"
          ]
        }
      ],
      "source": [
        "Y_predicted = scaler.inverse_transform(Y_predicted)\n",
        "Y_tested = scaler.inverse_transform(Y_tested)\n",
        "Y_predicted = Y_predicted[:,0:1]\n",
        "Y_tested = Y_tested[:,0:1]\n",
        "print('Y_tested', Y_tested.shape)\n",
        "print('Y_predicted', Y_predicted.shape)"
      ]
    },
    {
      "cell_type": "code",
      "execution_count": 33,
      "metadata": {
        "colab": {
          "base_uri": "https://localhost:8080/",
          "height": 34
        },
        "colab_type": "code",
        "id": "-dtpEAfGQsYJ",
        "outputId": "ce0bbb49-d5ab-45a6-cd2b-d3fc74bb91f8"
      },
      "outputs": [
        {
          "data": {
            "text/plain": [
              "30.008814"
            ]
          },
          "execution_count": 33,
          "metadata": {},
          "output_type": "execute_result"
        }
      ],
      "source": [
        "from sklearn.metrics import mean_squared_error\n",
        "mse = mean_squared_error(Y_tested, Y_predicted)\n",
        "\n",
        "rmse = np.sqrt(mse)\n",
        "rmse"
      ]
    },
    {
      "cell_type": "code",
      "execution_count": 34,
      "metadata": {
        "colab": {
          "base_uri": "https://localhost:8080/",
          "height": 421
        },
        "colab_type": "code",
        "id": "40LyAdCZfZet",
        "outputId": "72ed7906-b53b-48e6-bf4a-5673bcbdb2eb"
      },
      "outputs": [
        {
          "data": {
            "image/png": "[encoded data removed]",
            "text/plain": [
              "<Figure size 720x432 with 1 Axes>"
            ]
          },
          "metadata": {
            "needs_background": "light"
          },
          "output_type": "display_data"
        },
        {
          "data": {
            "text/plain": [
              "<Figure size 432x288 with 0 Axes>"
            ]
          },
          "metadata": {},
          "output_type": "display_data"
        }
      ],
      "source": [
        "#Plot the graph between actual vs predicted values\n",
        "plt.figure(figsize=(10,6))  \n",
        "plt.plot(Y_predicted[:100,:], color= 'green',label = 'Predicted Pollution level')\n",
        "plt.plot(Y_tested[:100,:] , color = 'red',label = 'Actual Pollution level')\n",
        "plt.title(\"Air Pollution Prediction (Multivariate)\")\n",
        "plt.xlabel(\"Date\")\n",
        "plt.ylabel(\"Pollution level\")\n",
        "plt.legend()\n",
        "plt.show()\n",
        "plt.savefig('graph.png')"
      ]
    },
    {
      "cell_type": "code",
      "execution_count": 35,
      "metadata": {
        "colab": {
          "base_uri": "https://localhost:8080/",
          "height": 68
        },
        "colab_type": "code",
        "id": "ulPQvfoXmyC4",
        "outputId": "0de176eb-b4c3-47f5-b55b-bd220dff9176"
      },
      "outputs": [
        {
          "name": "stdout",
          "output_type": "stream",
          "text": [
            "MAPE inf\n"
          ]
        },
        {
          "name": "stderr",
          "output_type": "stream",
          "text": [
            "C:\\Users\\sagar\\AppData\\Local\\Temp\\ipykernel_8220\\249640264.py:3: RuntimeWarning: divide by zero encountered in divide\n",
            "  return np.mean(np.abs((y_true - y_pred) / y_true)) * 100\n"
          ]
        }
      ],
      "source": [
        "def mean_absolute_percentage_error(y_true, y_pred): \n",
        "    y_true, y_pred = np.array(y_true), np.array(y_pred)\n",
        "    return np.mean(np.abs((y_true - y_pred) / y_true)) * 100\n",
        "\n",
        "mape = mean_absolute_percentage_error(Y_tested, Y_predicted)\n",
        "print('MAPE', mape)\n"
      ]
    },
    {
      "cell_type": "code",
      "execution_count": 36,
      "metadata": {
        "colab": {
          "base_uri": "https://localhost:8080/",
          "height": 51
        },
        "colab_type": "code",
        "id": "BCODs7Kom7uK",
        "outputId": "267f304e-03d7-43b0-92ea-ebc300c39823"
      },
      "outputs": [
        {
          "name": "stdout",
          "output_type": "stream",
          "text": [
            "RMSE 30.008814\n",
            "Mean of Test data  96.041435\n"
          ]
        }
      ],
      "source": [
        "from sklearn.metrics import mean_squared_error\n",
        "mse = mean_squared_error(Y_tested, Y_predicted)\n",
        "#print('Mean squared error', mse)\n",
        "print('RMSE' , np.sqrt(mse))\n",
        "print(\"Mean of Test data \", np.mean(Y_tested))"
      ]
    }
  ],
  "metadata": {
    "accelerator": "GPU",
    "colab": {
      "collapsed_sections": [],
      "name": "AirPollutionMultivariate.ipynb",
      "provenance": []
    },
    "kernelspec": {
      "display_name": "Python 3.9.12 ('ml_env')",
      "language": "python",
      "name": "python3"
    },
    "language_info": {
      "codemirror_mode": {
        "name": "ipython",
        "version": 3
      },
      "file_extension": ".py",
      "mimetype": "text/x-python",
      "name": "python",
      "nbconvert_exporter": "python",
      "pygments_lexer": "ipython3",
      "version": "3.9.12"
    },
    "vscode": {
      "interpreter": {
        "hash": "36940eacb29b82012f4e9e225501ad3a1037e479000bf96a952dc115e082195e"
      }
    }
  },
  "nbformat": 4,
  "nbformat_minor": 0
}
